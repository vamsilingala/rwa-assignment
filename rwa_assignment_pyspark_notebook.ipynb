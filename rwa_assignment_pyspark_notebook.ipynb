{
 "cells": [
  {
   "cell_type": "code",
   "execution_count": 1,
   "id": "3d0567c1-7882-494f-be9b-6c6518b9dc91",
   "metadata": {
    "execution": {
     "iopub.execute_input": "2023-03-16T06:27:26.299741Z",
     "iopub.status.busy": "2023-03-16T06:27:26.299405Z",
     "iopub.status.idle": "2023-03-16T06:27:56.905661Z",
     "shell.execute_reply": "2023-03-16T06:27:56.904933Z",
     "shell.execute_reply.started": "2023-03-16T06:27:26.299711Z"
    }
   },
   "outputs": [
    {
     "data": {
      "application/vnd.jupyter.widget-view+json": {
       "model_id": "8ef9f0fe6f894714b763f66a41e37011",
       "version_major": 2,
       "version_minor": 0
      },
      "text/plain": [
       "VBox()"
      ]
     },
     "metadata": {},
     "output_type": "display_data"
    },
    {
     "name": "stdout",
     "output_type": "stream",
     "text": [
      "Starting Spark application\n"
     ]
    },
    {
     "data": {
      "text/html": [
       "<table>\n",
       "<tr><th>ID</th><th>YARN Application ID</th><th>Kind</th><th>State</th><th>Spark UI</th><th>Driver log</th><th>User</th><th>Current session?</th></tr><tr><td>12</td><td>application_1678789269377_0067</td><td>pyspark</td><td>idle</td><td><a target=\"_blank\" href=\"http://ip-172-31-6-143.us-east-2.compute.internal:20888/proxy/application_1678789269377_0067/\" class=\"emr-proxy-link\" emr-resource=\"j-8GCWZ2T32QEQ\n",
       "\" application-id=\"application_1678789269377_0067\">Link</a></td><td><a target=\"_blank\" href=\"http://ip-172-31-2-42.us-east-2.compute.internal:8042/node/containerlogs/container_1678789269377_0067_01_000001/livy\" >Link</a></td><td>None</td><td>✔</td></tr></table>"
      ],
      "text/plain": [
       "<IPython.core.display.HTML object>"
      ]
     },
     "metadata": {},
     "output_type": "display_data"
    },
    {
     "data": {
      "application/vnd.jupyter.widget-view+json": {
       "model_id": "",
       "version_major": 2,
       "version_minor": 0
      },
      "text/plain": [
       "FloatProgress(value=0.0, bar_style='info', description='Progress:', layout=Layout(height='25px', width='50%'),…"
      ]
     },
     "metadata": {},
     "output_type": "display_data"
    },
    {
     "name": "stdout",
     "output_type": "stream",
     "text": [
      "SparkSession available as 'spark'.\n"
     ]
    },
    {
     "data": {
      "application/vnd.jupyter.widget-view+json": {
       "model_id": "",
       "version_major": 2,
       "version_minor": 0
      },
      "text/plain": [
       "FloatProgress(value=0.0, bar_style='info', description='Progress:', layout=Layout(height='25px', width='50%'),…"
      ]
     },
     "metadata": {},
     "output_type": "display_data"
    }
   ],
   "source": [
    "from pyspark.sql import SparkSession\n",
    "from pyspark.sql.types import StructType,StructField, StringType, IntegerType,BooleanType,DoubleType\n",
    "import pyspark.sql.functions as F\n",
    "from pyspark.sql.types import *\n",
    "\n",
    "from pyspark.sql import SparkSession"
   ]
  },
  {
   "cell_type": "code",
   "execution_count": 9,
   "id": "77d28756-096e-4a3d-9880-4f3d095269b1",
   "metadata": {
    "execution": {
     "iopub.execute_input": "2023-03-16T06:41:29.630592Z",
     "iopub.status.busy": "2023-03-16T06:41:29.630271Z",
     "iopub.status.idle": "2023-03-16T06:41:29.678467Z",
     "shell.execute_reply": "2023-03-16T06:41:29.677824Z",
     "shell.execute_reply.started": "2023-03-16T06:41:29.630566Z"
    },
    "tags": []
   },
   "outputs": [
    {
     "data": {
      "application/vnd.jupyter.widget-view+json": {
       "model_id": "f466e37e998149d9a6b194627e09aaca",
       "version_major": 2,
       "version_minor": 0
      },
      "text/plain": [
       "VBox()"
      ]
     },
     "metadata": {},
     "output_type": "display_data"
    },
    {
     "data": {
      "application/vnd.jupyter.widget-view+json": {
       "model_id": "",
       "version_major": 2,
       "version_minor": 0
      },
      "text/plain": [
       "FloatProgress(value=0.0, bar_style='info', description='Progress:', layout=Layout(height='25px', width='50%'),…"
      ]
     },
     "metadata": {},
     "output_type": "display_data"
    }
   ],
   "source": [
    "\n",
    "# function takes logs, tokens_path, output as parameter and writes the output in the given location\n",
    "def generate_etherium_log_metrics(etherium_logs, tokens_df, ouput_path: str, spark):\n",
    "    etherium_logs = spark.read.load(etherium_logs)\n",
    "    tokens_df = spark.read.option(\"header\",\"true\").option(\"multiline\",\"true\").csv(tokens_df)\n",
    "\n",
    "    \n",
    "    etherium_logs = etherium_logs.select(['address', 'topics', 'block_timestamp', 'data'])\n",
    "    etherium_logs_transfer_df=etherium_logs.filter(F.array_contains(F.col(\"topics\"),'0xddf252ad1be2c89b69c2b068fc378daa952ba7f163c4a11628f55a4df523b3ef'))\n",
    "    joined_tokens_logs=etherium_logs_transfer_df.join(tokens_df,['address'],'inner')\n",
    "    result_df= joined_tokens_logs.withColumn('token_Value', F.expr(\"conv(substring(data, 3), 16, 10)\")).select(['address','token_Value','block_timestamp'])\n",
    "    result_time_series_df = result_df.withColumn('year',F.year(joined_tokens_logs.block_timestamp)).withColumn('month',F.month(joined_tokens_logs.block_timestamp).alias('month')).withColumn('day',F.dayofmonth(joined_tokens_logs.block_timestamp).alias('day'))\n",
    "\n",
    "    group_columns = ['address', 'year', 'month']\n",
    "\n",
    "    result_metrics_df = result_time_series_df.groupBy(group_columns).agg(F.count('token_Value').alias(\"count\"), F.sum('token_Value').alias(\"total_token_Value\"))\n",
    "    result_max_occurances_df = result_metrics_df.groupBy(group_columns).agg(F.max('count').alias('count'))\n",
    "    \n",
    "    result_max_occurances_df = result_max_occurances_df.withColumn('count', result_max_occurances_df['count'].cast(DecimalType(18, 2)))\n",
    "    result_max_occurances_df.write.mode('overwrite').options(header='true').csv(ouput_path.rstrip('/') + \"/max_times/\" , compression=\"none\")\n",
    "\n",
    "    result_max_transferred_df = result_metrics_df.groupBy(group_columns).agg(F.max('total_token_Value').alias('total_token_value'))\n",
    "    result_max_transferred_df = result_max_transferred_df.withColumn('total_token_value', result_max_transferred_df.total_token_value.cast(DecimalType(18, 2)))\n",
    "\n",
    "    result_max_transferred_df.write.mode('overwrite').options(header='true').csv(ouput_path.rstrip('/') + \"/max_value/\", compression=\"none\")\n"
   ]
  },
  {
   "cell_type": "code",
   "execution_count": 10,
   "id": "56038bf2-6fae-46b2-96f9-bfdf47692d35",
   "metadata": {
    "execution": {
     "iopub.execute_input": "2023-03-16T06:41:31.710471Z",
     "iopub.status.busy": "2023-03-16T06:41:31.710166Z",
     "iopub.status.idle": "2023-03-16T06:41:37.162326Z",
     "shell.execute_reply": "2023-03-16T06:41:37.161652Z",
     "shell.execute_reply.started": "2023-03-16T06:41:31.710448Z"
    },
    "tags": []
   },
   "outputs": [
    {
     "data": {
      "application/vnd.jupyter.widget-view+json": {
       "model_id": "a67dba38c15c4bd58e1ee00745cde820",
       "version_major": 2,
       "version_minor": 0
      },
      "text/plain": [
       "VBox()"
      ]
     },
     "metadata": {},
     "output_type": "display_data"
    },
    {
     "data": {
      "application/vnd.jupyter.widget-view+json": {
       "model_id": "",
       "version_major": 2,
       "version_minor": 0
      },
      "text/plain": [
       "FloatProgress(value=0.0, bar_style='info', description='Progress:', layout=Layout(height='25px', width='50%'),…"
      ]
     },
     "metadata": {},
     "output_type": "display_data"
    }
   ],
   "source": [
    "spark_session = SparkSession.builder.appName('eth_assignment').getOrCreate()\n",
    "\n",
    "logs_path = 'gs://rwa-eth-bq-exports/logs'\n",
    "tokens_path = 'path' # add path \n",
    "ouput_path = 'path' # add path where you want to write these metrics\n",
    "generate_etherium_log_metrics(logs_path,tokens_path, ouput_path, spark_session)\n"
   ]
  },
  {
   "cell_type": "code",
   "execution_count": null,
   "id": "bfcc9d27-94e9-469d-982d-f8fda7aaf3b1",
   "metadata": {},
   "outputs": [],
   "source": []
  }
 ],
 "metadata": {
  "kernelspec": {
   "display_name": "PySpark",
   "language": "python",
   "name": "pysparkkernel"
  },
  "language_info": {
   "codemirror_mode": {
    "name": "python",
    "version": 3
   },
   "file_extension": ".py",
   "mimetype": "text/x-python",
   "name": "pyspark",
   "pygments_lexer": "python3"
  }
 },
 "nbformat": 4,
 "nbformat_minor": 5
}
